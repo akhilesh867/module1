{
  "nbformat": 4,
  "nbformat_minor": 0,
  "metadata": {
    "colab": {
      "provenance": []
    },
    "kernelspec": {
      "name": "python3",
      "display_name": "Python 3"
    },
    "language_info": {
      "name": "python"
    }
  },
  "cells": [
    {
      "cell_type": "markdown",
      "source": [
        "# FUNCTIONS\n"
      ],
      "metadata": {
        "id": "YJ_yuexGjVTw"
      }
    },
    {
      "cell_type": "markdown",
      "source": [
        "1. What is the difference between a function and a method in python?\n",
        "  - a function is independent and can be called from anywhere, while a method is tied to a class or object and must be called on that object or within that class .\n",
        "\n",
        "2.second question?\n",
        "   - this is the answer for second question .   \n",
        "\n"
      ],
      "metadata": {
        "id": "sSFkHFd6joCR"
      }
    },
    {
      "cell_type": "code",
      "execution_count": 1,
      "metadata": {
        "colab": {
          "base_uri": "https://localhost:8080/",
          "height": 35
        },
        "id": "IcD-ZzsVjTTy",
        "outputId": "e9123905-2857-4bbe-e1b0-f29907c24e6d"
      },
      "outputs": [
        {
          "output_type": "execute_result",
          "data": {
            "text/plain": [
              "'\\nthis is the answer for the question\\n'"
            ],
            "application/vnd.google.colaboratory.intrinsic+json": {
              "type": "string"
            }
          },
          "metadata": {},
          "execution_count": 1
        }
      ],
      "source": [
        "# question\n",
        "'''\n",
        "this is the answer for the question\n",
        "'''\n"
      ]
    },
    {
      "cell_type": "markdown",
      "source": [],
      "metadata": {
        "id": "gIgjVFA7jUI4"
      }
    }
  ]
}